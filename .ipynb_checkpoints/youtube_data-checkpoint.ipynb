{
 "cells": [
  {
   "cell_type": "markdown",
   "id": "ac6f965a-5cf9-4b5c-96a8-a26c86ea4954",
   "metadata": {},
   "source": [
    "### Import the necessary library's."
   ]
  },
  {
   "cell_type": "code",
   "execution_count": 216,
   "id": "45c0bb57-3b24-4465-931e-a4e5bd5a2e3b",
   "metadata": {},
   "outputs": [],
   "source": [
    "import numpy as np\n",
    "import pandas as pd\n",
    "import matplotlib.pyplot as plt\n",
    "import seaborn as sns"
   ]
  },
  {
   "cell_type": "markdown",
   "id": "fc62c928-1cb2-4701-9edb-f64add6a0424",
   "metadata": {},
   "source": [
    "### Q1. Load the dataset and assign it to a variable."
   ]
  },
  {
   "cell_type": "code",
   "execution_count": 217,
   "id": "392e547f-0c7d-4671-bdca-5fadd1896d02",
   "metadata": {},
   "outputs": [],
   "source": [
    "data=pd.read_csv(r\"C:\\Users\\Gandharvi\\OneDrive\\Documents\\imarticus projects\\Python Programming-Project\\Dataset\\train.csv\")"
   ]
  },
  {
   "cell_type": "markdown",
   "id": "e0936853-d661-4ecb-b490-54c279f1bf1f",
   "metadata": {},
   "source": [
    "### Q2. Display first 5 rows (.head())"
   ]
  },
  {
   "cell_type": "code",
   "execution_count": 218,
   "id": "640c2306-c6b4-4c74-9742-95c24be25c27",
   "metadata": {},
   "outputs": [
    {
     "data": {
      "text/html": [
       "<div>\n",
       "<style scoped>\n",
       "    .dataframe tbody tr th:only-of-type {\n",
       "        vertical-align: middle;\n",
       "    }\n",
       "\n",
       "    .dataframe tbody tr th {\n",
       "        vertical-align: top;\n",
       "    }\n",
       "\n",
       "    .dataframe thead th {\n",
       "        text-align: right;\n",
       "    }\n",
       "</style>\n",
       "<table border=\"1\" class=\"dataframe\">\n",
       "  <thead>\n",
       "    <tr style=\"text-align: right;\">\n",
       "      <th></th>\n",
       "      <th>Video_id</th>\n",
       "      <th>category_id</th>\n",
       "      <th>channel_title</th>\n",
       "      <th>subscriber</th>\n",
       "      <th>title</th>\n",
       "      <th>tags</th>\n",
       "      <th>description</th>\n",
       "      <th>Trend_day_count</th>\n",
       "      <th>Tag_count</th>\n",
       "      <th>Trend_tag_count</th>\n",
       "      <th>comment_count</th>\n",
       "      <th>comment_disabled</th>\n",
       "      <th>like dislike disabled</th>\n",
       "      <th>likes</th>\n",
       "      <th>dislike</th>\n",
       "      <th>tag appered in title</th>\n",
       "      <th>views</th>\n",
       "      <th>Unnamed: 17</th>\n",
       "      <th>Unnamed: 18</th>\n",
       "    </tr>\n",
       "  </thead>\n",
       "  <tbody>\n",
       "    <tr>\n",
       "      <th>0</th>\n",
       "      <td>HDR9SQc79</td>\n",
       "      <td>22</td>\n",
       "      <td>CaseyNeistat</td>\n",
       "      <td>9086142.0</td>\n",
       "      <td>WE WANT TO TALK ABOUT OUR MARRIAGE</td>\n",
       "      <td>SHANtell martin</td>\n",
       "      <td>SHANTELL'S CHANNEL - https://www.youtube.com/s...</td>\n",
       "      <td>6.0</td>\n",
       "      <td>21</td>\n",
       "      <td>6</td>\n",
       "      <td></td>\n",
       "      <td>FALSE</td>\n",
       "      <td>FALSE</td>\n",
       "      <td>13342</td>\n",
       "      <td>6089</td>\n",
       "      <td>False</td>\n",
       "      <td>1978978</td>\n",
       "      <td>NaN</td>\n",
       "      <td>NaN</td>\n",
       "    </tr>\n",
       "    <tr>\n",
       "      <th>1</th>\n",
       "      <td>KNH52UF?48</td>\n",
       "      <td>24</td>\n",
       "      <td>LastWeekTonight</td>\n",
       "      <td>5937292.0</td>\n",
       "      <td>The Trump Presidency: Last Week Tonight with J...</td>\n",
       "      <td>last week tonight trump presidency|last week t...</td>\n",
       "      <td>One year after the presidential election, John...</td>\n",
       "      <td>1.0</td>\n",
       "      <td>23</td>\n",
       "      <td>1</td>\n",
       "      <td>116266</td>\n",
       "      <td>TRUE</td>\n",
       "      <td>FALSE</td>\n",
       "      <td>5761</td>\n",
       "      <td>3044</td>\n",
       "      <td>False</td>\n",
       "      <td>1487870</td>\n",
       "      <td>NaN</td>\n",
       "      <td>NaN</td>\n",
       "    </tr>\n",
       "    <tr>\n",
       "      <th>2</th>\n",
       "      <td>QTW28IRG36</td>\n",
       "      <td>23</td>\n",
       "      <td>Rudy Mancuso</td>\n",
       "      <td>4191209.0</td>\n",
       "      <td>Racist Superman | Rudy Mancuso, King Bach &amp; Le...</td>\n",
       "      <td>racist superman|rudy|mancuso|king|bach|racist|...</td>\n",
       "      <td>WATCH MY PREVIOUS VIDEO ▶ \\n\\nSUBSCRIBE ► http...</td>\n",
       "      <td>10.0</td>\n",
       "      <td>22</td>\n",
       "      <td>3</td>\n",
       "      <td>257850</td>\n",
       "      <td>TRUE</td>\n",
       "      <td>TRUE</td>\n",
       "      <td>0</td>\n",
       "      <td>0</td>\n",
       "      <td>True</td>\n",
       "      <td>1502102</td>\n",
       "      <td>NaN</td>\n",
       "      <td>NaN</td>\n",
       "    </tr>\n",
       "    <tr>\n",
       "      <th>3</th>\n",
       "      <td>MGL76WI]26</td>\n",
       "      <td>24</td>\n",
       "      <td>Good Mythical Morning</td>\n",
       "      <td>13186408.0</td>\n",
       "      <td>Nickelback Lyrics: Real or Fake?</td>\n",
       "      <td>rhett and link|gmm|good mythical morning|rhett...</td>\n",
       "      <td>Today we find out if Link is a Nickelback amat...</td>\n",
       "      <td>12.0</td>\n",
       "      <td>17</td>\n",
       "      <td>5</td>\n",
       "      <td>263939</td>\n",
       "      <td>TRUE</td>\n",
       "      <td>TRUE</td>\n",
       "      <td>0</td>\n",
       "      <td>0</td>\n",
       "      <td>True</td>\n",
       "      <td>3519302</td>\n",
       "      <td>NaN</td>\n",
       "      <td>NaN</td>\n",
       "    </tr>\n",
       "    <tr>\n",
       "      <th>4</th>\n",
       "      <td>TWP93KXT70</td>\n",
       "      <td>24</td>\n",
       "      <td>nigahiga</td>\n",
       "      <td>20563106.0</td>\n",
       "      <td>I Dare You: GOING BALD!?</td>\n",
       "      <td>ryan|higa|higatv|nigahiga|i dare you|idy|rhpc|...</td>\n",
       "      <td>I know it's been a while since we did this sho...</td>\n",
       "      <td>11.0</td>\n",
       "      <td>15</td>\n",
       "      <td>7</td>\n",
       "      <td>268085</td>\n",
       "      <td>TRUE</td>\n",
       "      <td>TRUE</td>\n",
       "      <td>0</td>\n",
       "      <td>0</td>\n",
       "      <td>True</td>\n",
       "      <td>4835374</td>\n",
       "      <td>NaN</td>\n",
       "      <td>NaN</td>\n",
       "    </tr>\n",
       "  </tbody>\n",
       "</table>\n",
       "</div>"
      ],
      "text/plain": [
       "     Video_id category_id          channel_title  subscriber  \\\n",
       "0   HDR9SQc79          22           CaseyNeistat   9086142.0   \n",
       "1  KNH52UF?48          24        LastWeekTonight   5937292.0   \n",
       "2  QTW28IRG36          23           Rudy Mancuso   4191209.0   \n",
       "3  MGL76WI]26          24  Good Mythical Morning  13186408.0   \n",
       "4  TWP93KXT70          24               nigahiga  20563106.0   \n",
       "\n",
       "                                               title  \\\n",
       "0                 WE WANT TO TALK ABOUT OUR MARRIAGE   \n",
       "1  The Trump Presidency: Last Week Tonight with J...   \n",
       "2  Racist Superman | Rudy Mancuso, King Bach & Le...   \n",
       "3                   Nickelback Lyrics: Real or Fake?   \n",
       "4                           I Dare You: GOING BALD!?   \n",
       "\n",
       "                                                tags  \\\n",
       "0                                    SHANtell martin   \n",
       "1  last week tonight trump presidency|last week t...   \n",
       "2  racist superman|rudy|mancuso|king|bach|racist|...   \n",
       "3  rhett and link|gmm|good mythical morning|rhett...   \n",
       "4  ryan|higa|higatv|nigahiga|i dare you|idy|rhpc|...   \n",
       "\n",
       "                                         description  Trend_day_count  \\\n",
       "0  SHANTELL'S CHANNEL - https://www.youtube.com/s...              6.0   \n",
       "1  One year after the presidential election, John...              1.0   \n",
       "2  WATCH MY PREVIOUS VIDEO ▶ \\n\\nSUBSCRIBE ► http...             10.0   \n",
       "3  Today we find out if Link is a Nickelback amat...             12.0   \n",
       "4  I know it's been a while since we did this sho...             11.0   \n",
       "\n",
       "  Tag_count Trend_tag_count comment_count comment_disabled  \\\n",
       "0        21               6                          FALSE   \n",
       "1        23               1        116266             TRUE   \n",
       "2        22               3        257850             TRUE   \n",
       "3        17               5        263939             TRUE   \n",
       "4        15               7        268085             TRUE   \n",
       "\n",
       "  like dislike disabled  likes dislike tag appered in title    views  \\\n",
       "0                 FALSE  13342    6089                False  1978978   \n",
       "1                 FALSE   5761    3044                False  1487870   \n",
       "2                  TRUE      0       0                 True  1502102   \n",
       "3                  TRUE      0       0                 True  3519302   \n",
       "4                  TRUE      0       0                 True  4835374   \n",
       "\n",
       "   Unnamed: 17 Unnamed: 18  \n",
       "0          NaN         NaN  \n",
       "1          NaN         NaN  \n",
       "2          NaN         NaN  \n",
       "3          NaN         NaN  \n",
       "4          NaN         NaN  "
      ]
     },
     "execution_count": 218,
     "metadata": {},
     "output_type": "execute_result"
    }
   ],
   "source": [
    "data.head(5)"
   ]
  },
  {
   "cell_type": "markdown",
   "id": "828766c5-b81b-47db-a47b-90d7f4473612",
   "metadata": {},
   "source": [
    "### Q3. Check shape, column names, data types and describe."
   ]
  },
  {
   "cell_type": "code",
   "execution_count": 219,
   "id": "bd1258f8-e6cd-4613-a0ea-e50b1ad1de08",
   "metadata": {},
   "outputs": [
    {
     "data": {
      "text/plain": [
       "(3198, 19)"
      ]
     },
     "execution_count": 219,
     "metadata": {},
     "output_type": "execute_result"
    }
   ],
   "source": [
    "data.shape"
   ]
  },
  {
   "cell_type": "markdown",
   "id": "0fa95133-76d4-4df7-99f2-656193939d69",
   "metadata": {},
   "source": [
    "### *The dataset has 3198 rows and 19 columns.*"
   ]
  },
  {
   "cell_type": "code",
   "execution_count": 220,
   "id": "e7c6399d-e42e-4a9b-9429-8f3eb6ebf918",
   "metadata": {},
   "outputs": [
    {
     "data": {
      "text/html": [
       "<div>\n",
       "<style scoped>\n",
       "    .dataframe tbody tr th:only-of-type {\n",
       "        vertical-align: middle;\n",
       "    }\n",
       "\n",
       "    .dataframe tbody tr th {\n",
       "        vertical-align: top;\n",
       "    }\n",
       "\n",
       "    .dataframe thead th {\n",
       "        text-align: right;\n",
       "    }\n",
       "</style>\n",
       "<table border=\"1\" class=\"dataframe\">\n",
       "  <thead>\n",
       "    <tr style=\"text-align: right;\">\n",
       "      <th></th>\n",
       "      <th>Video_id</th>\n",
       "      <th>category_id</th>\n",
       "      <th>channel_title</th>\n",
       "      <th>subscriber</th>\n",
       "      <th>title</th>\n",
       "      <th>tags</th>\n",
       "      <th>description</th>\n",
       "      <th>Trend_day_count</th>\n",
       "      <th>Tag_count</th>\n",
       "      <th>Trend_tag_count</th>\n",
       "      <th>comment_count</th>\n",
       "      <th>comment_disabled</th>\n",
       "      <th>like dislike disabled</th>\n",
       "      <th>likes</th>\n",
       "      <th>dislike</th>\n",
       "      <th>tag appered in title</th>\n",
       "      <th>views</th>\n",
       "      <th>Unnamed: 17</th>\n",
       "      <th>Unnamed: 18</th>\n",
       "    </tr>\n",
       "  </thead>\n",
       "  <tbody>\n",
       "  </tbody>\n",
       "</table>\n",
       "</div>"
      ],
      "text/plain": [
       "Empty DataFrame\n",
       "Columns: [Video_id, category_id, channel_title, subscriber, title, tags, description, Trend_day_count, Tag_count, Trend_tag_count, comment_count, comment_disabled, like dislike disabled, likes, dislike, tag appered in title, views, Unnamed: 17, Unnamed: 18]\n",
       "Index: []"
      ]
     },
     "execution_count": 220,
     "metadata": {},
     "output_type": "execute_result"
    }
   ],
   "source": [
    "data.head(0)"
   ]
  },
  {
   "cell_type": "code",
   "execution_count": 221,
   "id": "22156ab3-95ba-4759-a3c9-72e61cc9eb1a",
   "metadata": {},
   "outputs": [
    {
     "data": {
      "text/plain": [
       "Video_id                  object\n",
       "category_id               object\n",
       "channel_title             object\n",
       "subscriber               float64\n",
       "title                     object\n",
       "tags                      object\n",
       "description               object\n",
       "Trend_day_count          float64\n",
       "Tag_count                 object\n",
       "Trend_tag_count           object\n",
       "comment_count             object\n",
       "comment_disabled          object\n",
       "like dislike disabled     object\n",
       "likes                     object\n",
       "dislike                   object\n",
       "tag appered in title      object\n",
       "views                     object\n",
       "Unnamed: 17              float64\n",
       "Unnamed: 18               object\n",
       "dtype: object"
      ]
     },
     "execution_count": 221,
     "metadata": {},
     "output_type": "execute_result"
    }
   ],
   "source": [
    "data.dtypes"
   ]
  },
  {
   "cell_type": "code",
   "execution_count": 222,
   "id": "7af0a102-f5cc-43db-89d1-bedf7f6193a5",
   "metadata": {},
   "outputs": [
    {
     "data": {
      "text/html": [
       "<div>\n",
       "<style scoped>\n",
       "    .dataframe tbody tr th:only-of-type {\n",
       "        vertical-align: middle;\n",
       "    }\n",
       "\n",
       "    .dataframe tbody tr th {\n",
       "        vertical-align: top;\n",
       "    }\n",
       "\n",
       "    .dataframe thead th {\n",
       "        text-align: right;\n",
       "    }\n",
       "</style>\n",
       "<table border=\"1\" class=\"dataframe\">\n",
       "  <thead>\n",
       "    <tr style=\"text-align: right;\">\n",
       "      <th></th>\n",
       "      <th>subscriber</th>\n",
       "      <th>Trend_day_count</th>\n",
       "      <th>Unnamed: 17</th>\n",
       "    </tr>\n",
       "  </thead>\n",
       "  <tbody>\n",
       "    <tr>\n",
       "      <th>count</th>\n",
       "      <td>3.175000e+03</td>\n",
       "      <td>3197.000000</td>\n",
       "      <td>1.0</td>\n",
       "    </tr>\n",
       "    <tr>\n",
       "      <th>mean</th>\n",
       "      <td>3.823981e+06</td>\n",
       "      <td>7.964342</td>\n",
       "      <td>2544.0</td>\n",
       "    </tr>\n",
       "    <tr>\n",
       "      <th>std</th>\n",
       "      <td>2.865771e+07</td>\n",
       "      <td>78.556055</td>\n",
       "      <td>NaN</td>\n",
       "    </tr>\n",
       "    <tr>\n",
       "      <th>min</th>\n",
       "      <td>0.000000e+00</td>\n",
       "      <td>0.000000</td>\n",
       "      <td>2544.0</td>\n",
       "    </tr>\n",
       "    <tr>\n",
       "      <th>25%</th>\n",
       "      <td>2.428800e+05</td>\n",
       "      <td>4.000000</td>\n",
       "      <td>2544.0</td>\n",
       "    </tr>\n",
       "    <tr>\n",
       "      <th>50%</th>\n",
       "      <td>1.241220e+06</td>\n",
       "      <td>7.000000</td>\n",
       "      <td>2544.0</td>\n",
       "    </tr>\n",
       "    <tr>\n",
       "      <th>75%</th>\n",
       "      <td>3.812622e+06</td>\n",
       "      <td>10.000000</td>\n",
       "      <td>2544.0</td>\n",
       "    </tr>\n",
       "    <tr>\n",
       "      <th>max</th>\n",
       "      <td>1.576229e+09</td>\n",
       "      <td>4444.000000</td>\n",
       "      <td>2544.0</td>\n",
       "    </tr>\n",
       "  </tbody>\n",
       "</table>\n",
       "</div>"
      ],
      "text/plain": [
       "         subscriber  Trend_day_count  Unnamed: 17\n",
       "count  3.175000e+03      3197.000000          1.0\n",
       "mean   3.823981e+06         7.964342       2544.0\n",
       "std    2.865771e+07        78.556055          NaN\n",
       "min    0.000000e+00         0.000000       2544.0\n",
       "25%    2.428800e+05         4.000000       2544.0\n",
       "50%    1.241220e+06         7.000000       2544.0\n",
       "75%    3.812622e+06        10.000000       2544.0\n",
       "max    1.576229e+09      4444.000000       2544.0"
      ]
     },
     "execution_count": 222,
     "metadata": {},
     "output_type": "execute_result"
    }
   ],
   "source": [
    "data.describe()"
   ]
  },
  {
   "cell_type": "markdown",
   "id": "345b30c1-6870-4815-8995-0e76ec25640a",
   "metadata": {},
   "source": [
    "### Q4. Are there any missing or duplicate values?"
   ]
  },
  {
   "cell_type": "code",
   "execution_count": 223,
   "id": "dd62e4c8-93bf-45dd-8701-85655008cfad",
   "metadata": {},
   "outputs": [
    {
     "data": {
      "text/plain": [
       "Video_id                    0\n",
       "category_id                 6\n",
       "channel_title               3\n",
       "subscriber                 23\n",
       "title                       3\n",
       "tags                      152\n",
       "description                65\n",
       "Trend_day_count             1\n",
       "Tag_count                   1\n",
       "Trend_tag_count             1\n",
       "comment_count               0\n",
       "comment_disabled            0\n",
       "like dislike disabled       0\n",
       "likes                       0\n",
       "dislike                     0\n",
       "tag appered in title        1\n",
       "views                       0\n",
       "Unnamed: 17              3197\n",
       "Unnamed: 18              3197\n",
       "dtype: int64"
      ]
     },
     "execution_count": 223,
     "metadata": {},
     "output_type": "execute_result"
    }
   ],
   "source": [
    "data.isnull().sum()"
   ]
  },
  {
   "cell_type": "code",
   "execution_count": 224,
   "id": "35134069-f186-4bdf-8014-5f3c7d3c69a8",
   "metadata": {},
   "outputs": [
    {
     "data": {
      "text/plain": [
       "np.int64(0)"
      ]
     },
     "execution_count": 224,
     "metadata": {},
     "output_type": "execute_result"
    }
   ],
   "source": [
    "data.duplicated().sum()"
   ]
  },
  {
   "cell_type": "markdown",
   "id": "1198f5c0-c88b-4400-b967-8df037027f3b",
   "metadata": {},
   "source": [
    "### Q5. Identify invalid numeric values (FALSE, #VALUE!, etc.)"
   ]
  },
  {
   "cell_type": "code",
   "execution_count": 225,
   "id": "36addaa9-dca0-4bf3-90bc-c2fd4a9579ae",
   "metadata": {},
   "outputs": [
    {
     "name": "stdout",
     "output_type": "stream",
     "text": [
      "        views\n",
      "2421  #VALUE!\n"
     ]
    }
   ],
   "source": [
    "invalid_views = data[pd.to_numeric(data['views'], errors='coerce').isna() & data['views'].notna()]\n",
    "print(invalid_views[['views']])"
   ]
  },
  {
   "cell_type": "code",
   "execution_count": 226,
   "id": "630036cd-867f-4346-8282-a3b4dbb527a6",
   "metadata": {},
   "outputs": [
    {
     "name": "stdout",
     "output_type": "stream",
     "text": [
      "     likes\n",
      "1234      \n"
     ]
    }
   ],
   "source": [
    "invalid_likes= data[pd.to_numeric(data['likes'], errors='coerce').isna() & data['likes'].notna()]\n",
    "print(invalid_likes[['likes']])"
   ]
  },
  {
   "cell_type": "code",
   "execution_count": 227,
   "id": "cd220d01-7e1d-4980-9a3d-563730184de1",
   "metadata": {},
   "outputs": [
    {
     "name": "stdout",
     "output_type": "stream",
     "text": [
      "     dislike\n",
      "1234   FALSE\n"
     ]
    }
   ],
   "source": [
    "invalid_dislike = data[pd.to_numeric(data['dislike'], errors='coerce').isna() & data['dislike'].notna()]\n",
    "print(invalid_dislike[['dislike']])"
   ]
  },
  {
   "cell_type": "code",
   "execution_count": 228,
   "id": "1544bd5d-f457-4a16-ba51-d27610df1026",
   "metadata": {},
   "outputs": [
    {
     "name": "stdout",
     "output_type": "stream",
     "text": [
      "     comment_count\n",
      "0                 \n",
      "6                 \n",
      "14                \n",
      "15                \n",
      "16                \n",
      "...            ...\n",
      "3190              \n",
      "3191              \n",
      "3193              \n",
      "3194              \n",
      "3195              \n",
      "\n",
      "[1015 rows x 1 columns]\n"
     ]
    }
   ],
   "source": [
    "invalid_comment = data[pd.to_numeric(data['comment_count'], errors='coerce').isna() & data['comment_count'].notna()]\n",
    "print(invalid_comment[['comment_count']])"
   ]
  },
  {
   "cell_type": "markdown",
   "id": "a647c74e-4849-48ee-92cb-2bfc6836eb81",
   "metadata": {},
   "source": [
    "### Q6. Convert columns (views, likes, dislike, comment_count) to numeric"
   ]
  },
  {
   "cell_type": "code",
   "execution_count": 229,
   "id": "41b2b1b4-1113-4d68-a9b7-cb6ff42df82d",
   "metadata": {},
   "outputs": [
    {
     "name": "stdout",
     "output_type": "stream",
     "text": [
      "1\n",
      "float64\n"
     ]
    }
   ],
   "source": [
    "data['views'] = pd.to_numeric(data['views'], errors='coerce')\n",
    "print(data['views'].isna().sum())  # Count NaN (invalid) entries\n",
    "print(data['views'].dtypes)        # Should now be float64 or int64"
   ]
  },
  {
   "cell_type": "code",
   "execution_count": 230,
   "id": "3f1e5941-9e3c-43bb-9612-aa6415c15d5f",
   "metadata": {},
   "outputs": [
    {
     "name": "stdout",
     "output_type": "stream",
     "text": [
      "1\n",
      "float64\n"
     ]
    }
   ],
   "source": [
    "data['likes'] = pd.to_numeric(data['likes'], errors='coerce')\n",
    "print(data['likes'].isna().sum())  # Count NaN (invalid) entries\n",
    "print(data['likes'].dtypes)   "
   ]
  },
  {
   "cell_type": "code",
   "execution_count": 231,
   "id": "88a22244-e3b3-4c51-a8b9-b330431a6972",
   "metadata": {},
   "outputs": [
    {
     "name": "stdout",
     "output_type": "stream",
     "text": [
      "1\n",
      "float64\n"
     ]
    }
   ],
   "source": [
    "data['dislike'] = pd.to_numeric(data['dislike'], errors='coerce')\n",
    "print(data['dislike'].isna().sum())  # Count NaN (invalid) entries\n",
    "print(data['dislike'].dtypes)"
   ]
  },
  {
   "cell_type": "code",
   "execution_count": 232,
   "id": "2c6d153e-787a-481a-a100-81dac14a5d6f",
   "metadata": {},
   "outputs": [
    {
     "name": "stdout",
     "output_type": "stream",
     "text": [
      "1015\n",
      "float64\n"
     ]
    }
   ],
   "source": [
    "data['comment_count'] = pd.to_numeric(data['comment_count'], errors='coerce')\n",
    "print(data['comment_count'].isna().sum())  # Count NaN (invalid) entries\n",
    "print(data['comment_count'].dtypes)        # Should now be float64 or int64"
   ]
  },
  {
   "cell_type": "markdown",
   "id": "b2b1c5a1-b62a-4eca-a644-49359df852f6",
   "metadata": {},
   "source": [
    "### Q7.What is the average, minimum, and maximum number of views, likes, dislikes, and comments?"
   ]
  },
  {
   "cell_type": "code",
   "execution_count": 233,
   "id": "3b202061-0fa1-427c-ab33-7666393a3ec3",
   "metadata": {},
   "outputs": [
    {
     "data": {
      "text/plain": [
       "views            1572121.0\n",
       "likes               9766.0\n",
       "dislike             5785.0\n",
       "comment_count     164789.0\n",
       "dtype: float64"
      ]
     },
     "execution_count": 233,
     "metadata": {},
     "output_type": "execute_result"
    }
   ],
   "source": [
    "avg=data[['views', 'likes', 'dislike', 'comment_count']].mean().round()\n",
    "avg"
   ]
  },
  {
   "cell_type": "code",
   "execution_count": 234,
   "id": "6c9cfecf-5971-4e1c-b5a4-cd21aad37acb",
   "metadata": {},
   "outputs": [
    {
     "data": {
      "text/plain": [
       "views            989873537.0\n",
       "likes              1213628.0\n",
       "dislike              14858.0\n",
       "comment_count       299877.0\n",
       "dtype: float64"
      ]
     },
     "execution_count": 234,
     "metadata": {},
     "output_type": "execute_result"
    }
   ],
   "source": [
    "maxi=data[['views', 'likes', 'dislike', 'comment_count']].max()\n",
    "maxi"
   ]
  },
  {
   "cell_type": "code",
   "execution_count": 235,
   "id": "e7a0c59b-bf81-4bf5-aff3-d5ed8ea8c332",
   "metadata": {},
   "outputs": [
    {
     "data": {
      "text/plain": [
       "views             1.0\n",
       "likes             0.0\n",
       "dislike           0.0\n",
       "comment_count    10.0\n",
       "dtype: float64"
      ]
     },
     "execution_count": 235,
     "metadata": {},
     "output_type": "execute_result"
    }
   ],
   "source": [
    "mini=data[['views', 'likes', 'dislike', 'comment_count']].min()\n",
    "mini"
   ]
  },
  {
   "cell_type": "markdown",
   "id": "b6e11172-7e7d-4f52-9313-580c838196a5",
   "metadata": {},
   "source": [
    "### Q8. Which channels have the highest average subscriber count?"
   ]
  },
  {
   "cell_type": "code",
   "execution_count": 236,
   "id": "2f9badf0-9ac9-4991-bcf2-0d25594358d8",
   "metadata": {},
   "outputs": [
    {
     "name": "stdout",
     "output_type": "stream",
     "text": [
      "                               channel_title    subscriber\n",
      "1213  The Tonight Show Starring Jimmy Fallon  6.305851e+07\n",
      "1134                                     TMZ  5.778600e+07\n",
      "142                                   Boldly  3.173016e+07\n",
      "369                               Ed Sheeran  2.867694e+07\n",
      "354                             Dude Perfect  2.799838e+07\n"
     ]
    }
   ],
   "source": [
    "hig_sub = data.groupby('channel_title')['subscriber'].mean().reset_index()\n",
    "hig_sub = hig_sub.sort_values(by='subscriber', ascending=False).head(5)\n",
    "print(hig_sub)"
   ]
  },
  {
   "cell_type": "code",
   "execution_count": 237,
   "id": "1f1f8b2a-6c3d-40ad-8e78-e44ddd26284e",
   "metadata": {},
   "outputs": [
    {
     "data": {
      "image/png": "[encoded data removed]",
      "text/plain": [
       "<Figure size 1500x300 with 1 Axes>"
      ]
     },
     "metadata": {},
     "output_type": "display_data"
    }
   ],
   "source": [
    "plt.figure(figsize=(15,3))\n",
    "sns.barplot(x='channel_title',y='subscriber',data=hig_sub)\n",
    "plt.xticks(rotation=45);"
   ]
  },
  {
   "cell_type": "markdown",
   "id": "415f859f-091a-4894-8786-4cc85379ed97",
   "metadata": {},
   "source": [
    "### Q9. Which channels have the most trending videos (Trend_day_count)?"
   ]
  },
  {
   "cell_type": "code",
   "execution_count": 238,
   "id": "44855313-44e2-47f6-a7d8-ad26b2e0b538",
   "metadata": {},
   "outputs": [
    {
     "name": "stdout",
     "output_type": "stream",
     "text": [
      "                       channel_title  Trend_day_count\n",
      "185                 CBS This Morning            562.0\n",
      "1496                          yovo68             12.0\n",
      "1477               slaymeclarkson c:             12.0\n",
      "1487               toofacedcosmetics             12.0\n",
      "13             A Chick Called Albert             12.0\n",
      "458   Genuine Survival Research Labs             12.0\n",
      "476             Graham The Christian             12.0\n",
      "1387                      cgriesemer             12.0\n",
      "1392                      colinfurze             12.0\n",
      "1396                        daronjay             12.0\n"
     ]
    }
   ],
   "source": [
    "tren_vid=data.groupby('channel_title')['Trend_day_count'].mean().reset_index()\n",
    "tren_vid=tren_vid.sort_values(by='Trend_day_count',ascending =False).head(10)\n",
    "print(tren_vid)"
   ]
  },
  {
   "cell_type": "markdown",
   "id": "a6dea529-ecf4-4c70-9f01-090db240550c",
   "metadata": {},
   "source": [
    "### Q10. What are the top 10 most frequent categories (Category_id)?"
   ]
  },
  {
   "cell_type": "code",
   "execution_count": 239,
   "id": "0328ac96-6640-4290-aad0-997c2e29ace9",
   "metadata": {},
   "outputs": [
    {
     "data": {
      "text/plain": [
       "category_id\n",
       "24    786\n",
       "10    415\n",
       "26    303\n",
       "25    294\n",
       "23    283\n",
       "22    246\n",
       "17    204\n",
       "28    186\n",
       "1     163\n",
       "27    117\n",
       "Name: count, dtype: int64"
      ]
     },
     "execution_count": 239,
     "metadata": {},
     "output_type": "execute_result"
    }
   ],
   "source": [
    "top10=data['category_id'].value_counts().head(10)\n",
    "top10"
   ]
  },
  {
   "cell_type": "markdown",
   "id": "5f8c2a9a-7ef9-4ae1-9685-6fbc52f77237",
   "metadata": {},
   "source": [
    "### Q11. Which videos have the highest number of views, likes, and comments?"
   ]
  },
  {
   "cell_type": "code",
   "execution_count": 240,
   "id": "2d5799ba-65b3-461e-9ff1-76a82f814338",
   "metadata": {},
   "outputs": [
    {
     "name": "stdout",
     "output_type": "stream",
     "text": [
      "        Video_id        views    likes  comment_count\n",
      "3172   ZUW72GLK1  989873537.0      0.0       273491.0\n",
      "45    AJB53GU]16  598795075.0   7559.0       190283.0\n",
      "1485  LWN89WY^61  100360000.0  10406.0            0.0\n",
      "901   HKB85DYN73   30039119.0      0.0        78629.0\n",
      "2343  STW13QWV33    6433327.0  13021.0       290217.0\n",
      "...          ...          ...      ...            ...\n",
      "983   HZM70JDN22          7.0   9409.0       290807.0\n",
      "3008   YOK2XY_45          6.0   7897.0            0.0\n",
      "2691   VTY19LAZ4          2.0   7227.0            0.0\n",
      "3098   ZFN3PTC98          1.0   6253.0       130065.0\n",
      "2808  WWW33ANN88          0.0   3690.0            0.0\n",
      "\n",
      "[3198 rows x 4 columns]\n"
     ]
    }
   ],
   "source": [
    "vid=data.groupby('Video_id')[['views','likes','comment_count']].sum().reset_index()\n",
    "vid=vid.sort_values(by=['views','likes','comment_count'],ascending=False)\n",
    "print(vid)"
   ]
  },
  {
   "cell_type": "markdown",
   "id": "bded0ae8-3c20-4989-b302-e85b1677b6e6",
   "metadata": {},
   "source": [
    "### Q12. Is there any correlation between subscriber count and video views?"
   ]
  },
  {
   "cell_type": "code",
   "execution_count": 241,
   "id": "26e9addf-e3a0-41a0-a4a5-688ea1ce434b",
   "metadata": {},
   "outputs": [
    {
     "name": "stdout",
     "output_type": "stream",
     "text": [
      "Correlation between Subscribers and Views: 0.0\n"
     ]
    }
   ],
   "source": [
    "correlation=data['subscriber'].corr(data['views']).round()\n",
    "print(\"Correlation between Subscribers and Views:\",correlation)"
   ]
  },
  {
   "cell_type": "markdown",
   "id": "e4567dae-4e41-4384-ad5b-3e28281c11f3",
   "metadata": {},
   "source": [
    "### Q13. Which channels have the highest total number of views across all their trending videos?"
   ]
  },
  {
   "cell_type": "code",
   "execution_count": 242,
   "id": "29627512-9ea0-473a-b586-5d964c72e0c8",
   "metadata": {},
   "outputs": [
    {
     "name": "stdout",
     "output_type": "stream",
     "text": [
      "                               channel_title        views\n",
      "411                           FaeryInLoveInc  989873537.0\n",
      "1235                      TheReportOfTheWeek  600205312.0\n",
      "1228                            TheEllenShow  149927957.0\n",
      "1187      The Late Show with Stephen Colbert  127872317.0\n",
      "1213  The Tonight Show Starring Jimmy Fallon  121558942.0\n",
      "1334                                     WWE   89637184.0\n",
      "600                        Jimmy Kimmel Live   74015738.0\n",
      "844                                      NBA   50129165.0\n",
      "1186    The Late Late Show with James Corden   48792576.0\n",
      "264                             CollegeHumor   43625940.0\n"
     ]
    }
   ],
   "source": [
    "chann=data.groupby('channel_title')['views'].sum().reset_index()\n",
    "chann=chann.sort_values('views',ascending=False).head(10)\n",
    "print(chann)"
   ]
  },
  {
   "cell_type": "markdown",
   "id": "f572dba6-3a45-4536-bc00-679336c9a99e",
   "metadata": {},
   "source": [
    "### Q14. Identify the outliers in the number of views using the Z-score method."
   ]
  },
  {
   "cell_type": "code",
   "execution_count": 243,
   "id": "d85c36bf-fa27-445f-8434-f33a037b932d",
   "metadata": {},
   "outputs": [
    {
     "data": {
      "text/html": [
       "<div>\n",
       "<style scoped>\n",
       "    .dataframe tbody tr th:only-of-type {\n",
       "        vertical-align: middle;\n",
       "    }\n",
       "\n",
       "    .dataframe tbody tr th {\n",
       "        vertical-align: top;\n",
       "    }\n",
       "\n",
       "    .dataframe thead th {\n",
       "        text-align: right;\n",
       "    }\n",
       "</style>\n",
       "<table border=\"1\" class=\"dataframe\">\n",
       "  <thead>\n",
       "    <tr style=\"text-align: right;\">\n",
       "      <th></th>\n",
       "      <th>Video_id</th>\n",
       "      <th>category_id</th>\n",
       "      <th>channel_title</th>\n",
       "      <th>subscriber</th>\n",
       "      <th>title</th>\n",
       "      <th>tags</th>\n",
       "      <th>description</th>\n",
       "      <th>Trend_day_count</th>\n",
       "      <th>Tag_count</th>\n",
       "      <th>Trend_tag_count</th>\n",
       "      <th>comment_count</th>\n",
       "      <th>comment_disabled</th>\n",
       "      <th>like dislike disabled</th>\n",
       "      <th>likes</th>\n",
       "      <th>dislike</th>\n",
       "      <th>tag appered in title</th>\n",
       "      <th>views</th>\n",
       "      <th>Unnamed: 17</th>\n",
       "      <th>Unnamed: 18</th>\n",
       "    </tr>\n",
       "  </thead>\n",
       "  <tbody>\n",
       "    <tr>\n",
       "      <th>29</th>\n",
       "      <td>ZUW72GLK1</td>\n",
       "      <td>1</td>\n",
       "      <td>FaeryInLoveInc</td>\n",
       "      <td>44.0</td>\n",
       "      <td>Nick Andopolis: Drummer</td>\n",
       "      <td>freaks and geeks|jason segel|judd apatow|drums...</td>\n",
       "      <td>The opening of Freaks and Geeks Episode 6, I'm...</td>\n",
       "      <td>12.0</td>\n",
       "      <td>21</td>\n",
       "      <td>1</td>\n",
       "      <td>273491.0</td>\n",
       "      <td>TRUE</td>\n",
       "      <td>TRUE</td>\n",
       "      <td>0.0</td>\n",
       "      <td>0.0</td>\n",
       "      <td>True</td>\n",
       "      <td>989873537.0</td>\n",
       "      <td>NaN</td>\n",
       "      <td>NaN</td>\n",
       "    </tr>\n",
       "    <tr>\n",
       "      <th>1476</th>\n",
       "      <td>LWN89WY^61</td>\n",
       "      <td>24</td>\n",
       "      <td>The Late Show with Stephen Colbert</td>\n",
       "      <td>3965373.0</td>\n",
       "      <td>Tom Hanks And Stephen Argue Christmas Tree Tec...</td>\n",
       "      <td>The Late Show|Stephen Colbert|Colbert|Late Sho...</td>\n",
       "      <td>'The Post' star Tom Hanks and Stephen debate t...</td>\n",
       "      <td>10.0</td>\n",
       "      <td>14</td>\n",
       "      <td>6</td>\n",
       "      <td>NaN</td>\n",
       "      <td>FALSE</td>\n",
       "      <td>FALSE</td>\n",
       "      <td>10406.0</td>\n",
       "      <td>3064.0</td>\n",
       "      <td>False</td>\n",
       "      <td>100360000.0</td>\n",
       "      <td>NaN</td>\n",
       "      <td>NaN</td>\n",
       "    </tr>\n",
       "    <tr>\n",
       "      <th>2379</th>\n",
       "      <td>AJB53GU]16</td>\n",
       "      <td>24</td>\n",
       "      <td>TheReportOfTheWeek</td>\n",
       "      <td>770330.0</td>\n",
       "      <td>Checking Out the New McDonald’s Dollar Menu</td>\n",
       "      <td>reviewbrah|mcdonalds|burger|sandwich|dollar me...</td>\n",
       "      <td>Trying out the new Dollar Menu from McDonald's...</td>\n",
       "      <td>1.0</td>\n",
       "      <td>9</td>\n",
       "      <td>3</td>\n",
       "      <td>190283.0</td>\n",
       "      <td>TRUE</td>\n",
       "      <td>FALSE</td>\n",
       "      <td>7559.0</td>\n",
       "      <td>1871.0</td>\n",
       "      <td>True</td>\n",
       "      <td>598795075.0</td>\n",
       "      <td>NaN</td>\n",
       "      <td>NaN</td>\n",
       "    </tr>\n",
       "  </tbody>\n",
       "</table>\n",
       "</div>"
      ],
      "text/plain": [
       "        Video_id category_id                       channel_title  subscriber  \\\n",
       "29     ZUW72GLK1           1                      FaeryInLoveInc        44.0   \n",
       "1476  LWN89WY^61          24  The Late Show with Stephen Colbert   3965373.0   \n",
       "2379  AJB53GU]16          24                  TheReportOfTheWeek    770330.0   \n",
       "\n",
       "                                                  title  \\\n",
       "29                              Nick Andopolis: Drummer   \n",
       "1476  Tom Hanks And Stephen Argue Christmas Tree Tec...   \n",
       "2379        Checking Out the New McDonald’s Dollar Menu   \n",
       "\n",
       "                                                   tags  \\\n",
       "29    freaks and geeks|jason segel|judd apatow|drums...   \n",
       "1476  The Late Show|Stephen Colbert|Colbert|Late Sho...   \n",
       "2379  reviewbrah|mcdonalds|burger|sandwich|dollar me...   \n",
       "\n",
       "                                            description  Trend_day_count  \\\n",
       "29    The opening of Freaks and Geeks Episode 6, I'm...             12.0   \n",
       "1476  'The Post' star Tom Hanks and Stephen debate t...             10.0   \n",
       "2379  Trying out the new Dollar Menu from McDonald's...              1.0   \n",
       "\n",
       "     Tag_count Trend_tag_count  comment_count comment_disabled  \\\n",
       "29          21               1       273491.0             TRUE   \n",
       "1476        14               6            NaN            FALSE   \n",
       "2379         9               3       190283.0             TRUE   \n",
       "\n",
       "     like dislike disabled    likes  dislike tag appered in title  \\\n",
       "29                    TRUE      0.0      0.0                 True   \n",
       "1476                 FALSE  10406.0   3064.0                False   \n",
       "2379                 FALSE   7559.0   1871.0                 True   \n",
       "\n",
       "            views  Unnamed: 17 Unnamed: 18  \n",
       "29    989873537.0          NaN         NaN  \n",
       "1476  100360000.0          NaN         NaN  \n",
       "2379  598795075.0          NaN         NaN  "
      ]
     },
     "execution_count": 243,
     "metadata": {},
     "output_type": "execute_result"
    }
   ],
   "source": [
    "m = data['views'].mean()\n",
    "s = data['views'].std()\n",
    "\n",
    "z = (data['views'] - m) / s\n",
    "z\n",
    "\n",
    "out = data[ abs (z) > 3]\n",
    "out"
   ]
  },
  {
   "cell_type": "code",
   "execution_count": null,
   "id": "164f58c1-13fb-4523-8bdd-43b089bd7fb7",
   "metadata": {},
   "outputs": [],
   "source": []
  }
 ],
 "metadata": {
  "kernelspec": {
   "display_name": "Python [conda env:base] *",
   "language": "python",
   "name": "conda-base-py"
  },
  "language_info": {
   "codemirror_mode": {
    "name": "ipython",
    "version": 3
   },
   "file_extension": ".py",
   "mimetype": "text/x-python",
   "name": "python",
   "nbconvert_exporter": "python",
   "pygments_lexer": "ipython3",
   "version": "3.13.5"
  }
 },
 "nbformat": 4,
 "nbformat_minor": 5
}
